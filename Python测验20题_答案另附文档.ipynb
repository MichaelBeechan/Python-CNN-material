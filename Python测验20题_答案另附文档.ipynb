{
 "cells": [
  {
   "cell_type": "markdown",
   "metadata": {},
   "source": [
    " ![](http://onm3nv9z1.bkt.clouddn.com/%E5%AE%BD%E5%9B%BE-1205x420.jpg)"
   ]
  },
  {
   "cell_type": "markdown",
   "metadata": {},
   "source": [
    "## <center>《机器学习工程师》</center>\n",
    " <center>-1- 稀牛学院与网易联合出品 </center>\n",
    "<center>-2- 特邀海内外顶尖工业界讲师独家打造 </center>\n",
    "<center>-3- 以实战案例为主线、配备特有的在线实验平台 </center>\n",
    "<center>-4- 辅以20个项目实战保证学习效果 </center>"
   ]
  },
  {
   "cell_type": "markdown",
   "metadata": {},
   "source": [
    "# Python测验20题"
   ]
  },
  {
   "cell_type": "markdown",
   "metadata": {},
   "source": [
    ">#### 刚开始学Python，基础很重要，告诫自己不要好高骛远，把基础打好才是最重要的。\n",
    "\n",
    ">#### 以下我们列出了20个Python基础训练题，来动手试试可以答对多少吧！"
   ]
  },
  {
   "cell_type": "markdown",
   "metadata": {},
   "source": [
    "### - 1.以下为学习Python的第一个程序，即如何输出\"Hello World!\"；\n",
    "  \n",
    "代码如下："
   ]
  },
  {
   "cell_type": "code",
   "execution_count": null,
   "metadata": {
    "collapsed": true
   },
   "outputs": [],
   "source": [
    "# 该实例输出 Hello World!\n",
    "print('Hello World!')"
   ]
  },
  {
   "cell_type": "markdown",
   "metadata": {},
   "source": [
    "### - 2.利用Python求和； 以下为通过用户输入两个数字，并计算两个数字之和。\n",
    "\n",
    "代码如下："
   ]
  },
  {
   "cell_type": "code",
   "execution_count": null,
   "metadata": {
    "collapsed": true
   },
   "outputs": [],
   "source": [
    "# 用户输入数字\n",
    "num1 = input('输入第一个数字：')\n",
    "num2 = input('输入第二个数字：')\n",
    " \n",
    "# 求和\n",
    "sum = float(num1) + float(num2)\n",
    " \n",
    "# 显示计算结果\n",
    "print('数字 {0} 和 {1} 相加结果为： {2}'.format(num1, num2, sum))"
   ]
  },
  {
   "cell_type": "markdown",
   "metadata": {},
   "source": [
    "##### 提示：在该实例中，我们通过用户输入两个数字来求和。使用了内置函数 input() 来获取用户的输入，input() 返回一个字符串，所以我们需要使用 float() 方法将字符串转换为数字。 两数字运算，求和我们使用了加号 (+)运算符，除此外，还有 减号 (-), 乘号 （*），除号（/），地板除 (//) 或 取余 (%)。\n",
    "\n",
    "我们还可以将以上运算，合并为一行代码哦！你可以尝试一下："
   ]
  },
  {
   "cell_type": "code",
   "execution_count": null,
   "metadata": {
    "collapsed": true
   },
   "outputs": [],
   "source": [
    "## Your Code here"
   ]
  },
  {
   "cell_type": "markdown",
   "metadata": {},
   "source": [
    "### - 3.利用Python求平方根。 通过用户输入一个数字，并计算这个数字的平方根：\n",
    "\n",
    "平方根，又叫二次方根，表示为〔√￣〕，如：数学语言为：√￣16=4。语言描述为：根号下16=4。\n",
    "代码如下："
   ]
  },
  {
   "cell_type": "code",
   "execution_count": null,
   "metadata": {
    "collapsed": true
   },
   "outputs": [],
   "source": [
    "num = float(input('请输入一个数字： '))\n",
    "num_sqrt = num ** 0.5\n",
    "print(' %0.3f 的平方根为 %0.3f'%(num ,num_sqrt))"
   ]
  },
  {
   "cell_type": "markdown",
   "metadata": {},
   "source": [
    "##### 提示：在该实例中，我们通过用户输入一个数字，并使用指数运算符 ** 来计算改数的平方根。\n",
    "\n",
    "思考：以上程序只适用于正数。负数和复数应该怎样实现呢？"
   ]
  },
  {
   "cell_type": "code",
   "execution_count": null,
   "metadata": {
    "collapsed": true
   },
   "outputs": [],
   "source": [
    "# 计算实数和复数平方根\n",
    "# 导入复数数学模块\n",
    " \n",
    "import cmath\n",
    " \n",
    "num = int(input(\"请输入一个数字: \"))\n",
    "# your code here\n",
    "print('{0} 的平方根为 {1:0.3f}+{2:0.3f}j'.format(num ,num_sqrt.real,num_sqrt.imag))"
   ]
  },
  {
   "cell_type": "markdown",
   "metadata": {},
   "source": [
    "##### 提示：该实例中，我们使用了 cmath (complex math) 模块的 sqrt() 方法。"
   ]
  },
  {
   "cell_type": "markdown",
   "metadata": {},
   "source": [
    "### - 4.利用Python求二次方程。 以下为通过用户输入数字，并计算二次方程；\n",
    "\n",
    "代码如下："
   ]
  },
  {
   "cell_type": "code",
   "execution_count": null,
   "metadata": {
    "collapsed": true
   },
   "outputs": [],
   "source": [
    "# 二次方程式 ax**2 + bx + c = 0\n",
    "# a、b、c 用户提供\n",
    " \n",
    "# 导入 cmath(复杂数学运算) 模块\n",
    "import cmath\n",
    " \n",
    "a = float(input('输入 a: '))\n",
    "b = float(input('输入 b: '))\n",
    "c = float(input('输入 c: '))\n",
    " \n",
    "# 计算\n",
    "d = (b**2) - (4*a*c)\n",
    " \n",
    "# 两种求解方式\n",
    "sol1 = (-b-cmath.sqrt(d))/(2*a)\n",
    "# your code here: sol2 = \n",
    " \n",
    "print('结果为 {0} 和 {1}'.format(sol1,sol2))"
   ]
  },
  {
   "cell_type": "markdown",
   "metadata": {},
   "source": [
    "##### 提示：该实例中，我们使用了 cmath (complex math) 模块的 sqrt() 方法 来计算平方根。"
   ]
  },
  {
   "cell_type": "markdown",
   "metadata": {},
   "source": [
    "### - 5.利用Python求三角形的面积。以下为通过用户输入三角形三边长度，并计算三角形的面积；\n",
    "\n",
    "代码如下："
   ]
  },
  {
   "cell_type": "code",
   "execution_count": null,
   "metadata": {
    "collapsed": true
   },
   "outputs": [],
   "source": [
    "a = float (input ('输入三角形第一边长：'))\n",
    "b = float (input ('输入三角形第二边长：'))\n",
    "c = float (input ('输入三角形第三边长：'))\n",
    "while a+b<c or a+c<b or b+c<a:\n",
    "    print ('输入的边构不成三角形，请重新输入！')\n",
    "    a = float (input ('输入三角形第一边长：'))\n",
    "    b = float (input ('输入三角形第二边长：'))\n",
    "    c = float (input ('输入三角形第三边长：'))\n",
    "\n",
    "# your code here: s = \n",
    "# your code here: area = \n",
    "print ('三角形面积为：%0.2f'%area)"
   ]
  },
  {
   "cell_type": "markdown",
   "metadata": {},
   "source": [
    "### - 6.利用Python生成随机数。以下演示了如何生成一个随机数；\n",
    "\n",
    "代码如下："
   ]
  },
  {
   "cell_type": "code",
   "execution_count": null,
   "metadata": {
    "collapsed": true
   },
   "outputs": [],
   "source": [
    "# 生成 0 ~ 9 之间的随机数\n",
    " \n",
    "# 导入 random(随机数) 模块\n",
    "import random\n",
    " \n",
    "print(random.randint(0,9))"
   ]
  },
  {
   "cell_type": "markdown",
   "metadata": {},
   "source": [
    "##### 提示：以上实例我们使用了 random 模块的 randint() 函数来生成随机数，你每次执行后都返回不同的数字（0 到 9）"
   ]
  },
  {
   "cell_type": "markdown",
   "metadata": {},
   "source": [
    "### - 7.利用Python将摄氏温度转化为华氏温度。以下演示了如何将摄氏温度转华氏温度；\n",
    "\n",
    "代码如下："
   ]
  },
  {
   "cell_type": "code",
   "execution_count": null,
   "metadata": {
    "collapsed": true
   },
   "outputs": [],
   "source": [
    "# 用户输入摄氏温度\n",
    " \n",
    "# 接收用户输入\n",
    "celsius = float(input('输入摄氏温度: '))\n",
    " \n",
    "# 计算华氏温度\n",
    "# your code here: fahrenheit = \n",
    "print('%0.1f 摄氏温度转为华氏温度为 %0.1f ' %(celsius,fahrenheit))"
   ]
  },
  {
   "cell_type": "markdown",
   "metadata": {},
   "source": [
    "##### 提示：以上实例中，摄氏温度转华氏温度的公式为 celsius * 1.8 = fahrenheit - 32。所以得到以下式子："
   ]
  },
  {
   "cell_type": "markdown",
   "metadata": {},
   "source": [
    "### - 8.利用Python进行变量交换。以下通过用户输入两个变量，并相互交换；\n",
    "\n",
    "代码如下："
   ]
  },
  {
   "cell_type": "code",
   "execution_count": null,
   "metadata": {
    "collapsed": true
   },
   "outputs": [],
   "source": [
    "# 用户输入\n",
    "\n",
    "x = input('输入 x 值: ')\n",
    "y = input('输入 y 值: ')\n",
    "\n",
    "# 创建临时变量，并交换\n",
    "# your code here: temp = \n",
    "# your code here: \n",
    "# your code here: \n",
    "\n",
    "print('交换后 x 的值为: {}'.format(x))\n",
    "print('交换后 y 的值为: {}'.format(y))"
   ]
  },
  {
   "cell_type": "markdown",
   "metadata": {},
   "source": [
    "##### 提示：以上实例中，我们创建了临时变量 temp ，并将 x 的值存储在 temp 变量中，接着将 y 值赋给 x，最后将 temp 赋值给 y 变量。 我们也可以不创建临时变量，用一个非常优雅的方式来交换变量。"
   ]
  },
  {
   "cell_type": "code",
   "execution_count": null,
   "metadata": {
    "collapsed": true
   },
   "outputs": [],
   "source": [
    "x,y = y,x"
   ]
  },
  {
   "cell_type": "markdown",
   "metadata": {},
   "source": [
    "所以上述实例可以修改为："
   ]
  },
  {
   "cell_type": "code",
   "execution_count": null,
   "metadata": {
    "collapsed": true
   },
   "outputs": [],
   "source": [
    "# -*- coding: UTF-8 -*-\n",
    "\n",
    "# Filename : test.py\n",
    "# author by : www.runoob.com\n",
    "\n",
    "# 用户输入\n",
    "\n",
    "x = input('输入 x 值: ')\n",
    "y = input('输入 y 值: ')\n",
    "\n",
    "# 不使用临时变量\n",
    "# your code here: \n",
    "\n",
    "print('交换后 x 的值为: {}'.format(x))\n",
    "print('交换后 y 的值为: {}'.format(y))"
   ]
  },
  {
   "cell_type": "markdown",
   "metadata": {
    "collapsed": true
   },
   "source": [
    "### - 9.编程，找出10000之内的所有完数，并输出该完数及对应的因子。\n",
    "- 一个数如果恰好等于它的因子之和，这个数就称为“完数”。\n",
    "- 例如，6的因子为1、2、3，而6=1+2+3，因此6是完数。\n",
    "\n",
    "代码如下："
   ]
  },
  {
   "cell_type": "code",
   "execution_count": null,
   "metadata": {
    "collapsed": true
   },
   "outputs": [],
   "source": [
    "def wanshu(N):\n",
    "    factors = []\n",
    "    for i in range(1, N):\n",
    "        if N % i == 0:\n",
    "            factors.append(i)   # find all factors\n",
    "    if sum(factors) == N:\n",
    "        return True, factors\n",
    "    return False, []\n",
    "\n",
    "for i in range(1, 10000):    # 请加注释\n",
    "    isW, facs = wanshu(i)    # 请加注释\n",
    "    if isW:                  # 请加注释\n",
    "        print (i, facs)"
   ]
  },
  {
   "cell_type": "markdown",
   "metadata": {},
   "source": [
    "### - 10.摘录网页HTML源码，粘贴到input.txt，统计其中英文字母、空格、数字和其他字符的个数并输出。\n",
    "\n",
    "代码如下："
   ]
  },
  {
   "cell_type": "code",
   "execution_count": null,
   "metadata": {
    "collapsed": true
   },
   "outputs": [],
   "source": [
    "counts = {\"letter\": 0, \"blank\": 0, \"number\": 0, \"other\": 0}\n",
    "\n",
    "f = open('./input_1.txt', 'r')        #代码完整且正确，请使用自己准备的文档完成作业\n",
    "contents = f.readlines()\n",
    "f.close()\n",
    "for coni in contents:\n",
    "    tmp = coni.strip()\n",
    "    for ci in tmp:\n",
    "        if ci.isalpha():    # is letter?\n",
    "            counts[\"letter\"] += 1\n",
    "        elif ci.isspace():  # is space?\n",
    "            counts[\"blank\"] += 1\n",
    "        elif ci.isdigit():  # is number?\n",
    "            counts[\"number\"] += 1\n",
    "        else:               # other\n",
    "            counts[\"other\"] += 1\n",
    "for item in counts.items():\n",
    "    print (item[0] + \": \" + str(item[1]))"
   ]
  },
  {
   "cell_type": "markdown",
   "metadata": {},
   "source": [
    "### - 11.在网上摘录一段英文文本(尽量长一些)，粘贴到input.txt，统计其中每个单词的词频(出现的次数)，并按照词频的顺序写入out.txt文件，每一行的内容为“单词:频次”\n",
    "\n",
    "代码如下："
   ]
  },
  {
   "cell_type": "code",
   "execution_count": null,
   "metadata": {
    "collapsed": true
   },
   "outputs": [],
   "source": [
    "import re\n",
    "\n",
    "f = open('./input_2.txt', 'r')      #代码完整且正确，请使用自己准备的文档完成作业\n",
    "contents = f.read()\n",
    "f.close()\n",
    "words = re.findall(r'\\w+', contents)\n",
    "counts = {}\n",
    "for wordi in words:\n",
    "    if wordi in counts:\n",
    "        counts[wordi] += 1\n",
    "    else:\n",
    "        counts[wordi] = 1\n",
    "tmp = sorted(counts.items(), key = lambda item:item[1], reverse = True)\n",
    "\n",
    "fw = open('./out.txt', 'w')\n",
    "for ti in tmp:\n",
    "    fw.write(ti[0] + \": \" + str(ti[1]) + \"\\n\")\n",
    "fw.close()"
   ]
  },
  {
   "cell_type": "markdown",
   "metadata": {},
   "source": [
    "### - 12.调出字符串'AV is largest Analytics community of India'中每个字母Extract each character\n",
    "\n",
    "代码如下："
   ]
  },
  {
   "cell_type": "code",
   "execution_count": null,
   "metadata": {
    "collapsed": true
   },
   "outputs": [],
   "source": [
    "import re\n",
    "result=re.findall(r'\\w','AV is largest Analytics community of India')\n",
    "print(result)"
   ]
  },
  {
   "cell_type": "markdown",
   "metadata": {},
   "source": [
    "##### 提示：用“\\w“"
   ]
  },
  {
   "cell_type": "markdown",
   "metadata": {},
   "source": [
    "### - 13.获取昨天日期\n",
    "\n",
    "代码如下："
   ]
  },
  {
   "cell_type": "code",
   "execution_count": null,
   "metadata": {
    "collapsed": true
   },
   "outputs": [],
   "source": [
    "# 引入 datetime 模块\n",
    "import datetime\n",
    "def getYesterday(): \n",
    "    today=datetime.date.today()   # 请加注释\n",
    "    oneday=datetime.timedelta(days=1)   # 请加注释\n",
    "    yesterday=today-oneday    # 请加注释\n",
    "    return yesterday\n",
    " \n",
    "# 输出\n",
    "print(getYesterday())"
   ]
  },
  {
   "cell_type": "markdown",
   "metadata": {},
   "source": [
    "##### 提示：以上代码通过导入 datetime 模块来获取昨天的日期"
   ]
  },
  {
   "cell_type": "markdown",
   "metadata": {},
   "source": [
    "### - 14.生成日历\n",
    "\n",
    "代码如下："
   ]
  },
  {
   "cell_type": "code",
   "execution_count": null,
   "metadata": {
    "collapsed": true
   },
   "outputs": [],
   "source": [
    "# 引入日历模块\n",
    "import calendar\n",
    " \n",
    "# 输入指定年月\n",
    "yy = int(input(\"输入年份: \"))\n",
    "mm = int(input(\"输入月份: \"))\n",
    " \n",
    "# 显示日历\n",
    "print(calendar.month(yy,mm))"
   ]
  },
  {
   "cell_type": "markdown",
   "metadata": {},
   "source": [
    "### - 15.最大公约数算法\n",
    "\n",
    "代码如下："
   ]
  },
  {
   "cell_type": "code",
   "execution_count": null,
   "metadata": {
    "collapsed": true
   },
   "outputs": [],
   "source": [
    "# 定义一个函数\n",
    "def hcf(x, y):\n",
    "   \"\"\"该函数返回两个数的最大公约数\"\"\"\n",
    " \n",
    "   # 获取最小值\n",
    "   if x > y:\n",
    "       smaller = y\n",
    "   else:\n",
    "       smaller = x\n",
    " \n",
    "   for i in range(1,smaller + 1):\n",
    "       if((x % i == 0) and (y % i == 0)):\n",
    "           hcf = i\n",
    " \n",
    "   return hcf\n",
    " \n",
    " \n",
    "# 用户输入两个数字\n",
    "num1 = int(input(\"输入第一个数字: \"))\n",
    "num2 = int(input(\"输入第二个数字: \"))\n",
    " \n",
    "print( num1,\"和\", num2,\"的最大公约数为\", hcf(num1, num2))"
   ]
  },
  {
   "cell_type": "markdown",
   "metadata": {},
   "source": [
    "### - 16.任意定义三个数(有整型和浮点型)，通过比较判断，输出其最大者。\n",
    "\n",
    "代码如下："
   ]
  },
  {
   "cell_type": "code",
   "execution_count": null,
   "metadata": {
    "collapsed": true
   },
   "outputs": [],
   "source": [
    "nums = [3, 12.5, 5.562]  # input\n",
    "maxNum = nums[0]\n",
    "for i in range(1, len(nums)):\n",
    "    # your code here\n",
    "        # your code here\n",
    "print (\"The maximum value is\", maxNum)"
   ]
  },
  {
   "cell_type": "markdown",
   "metadata": {},
   "source": [
    "### - 17.用list comprehension生成1-20000之间所有能被3整除不能被5整除的数\n",
    "\n",
    "代码如下："
   ]
  },
  {
   "cell_type": "code",
   "execution_count": null,
   "metadata": {
    "collapsed": true
   },
   "outputs": [],
   "source": [
    "nums = [num for num in range(1, 20001) if num % 3 == 0 and num % 5 != 0]\n",
    "print nums\n",
    "# 程序有个小bug，请找出并更正"
   ]
  },
  {
   "cell_type": "markdown",
   "metadata": {},
   "source": [
    "### - 18.练习切片，取出上述列表中前10个数，最后5个数，下标为偶数的数，并把列表逆序。\n",
    "\n",
    "代码如下："
   ]
  },
  {
   "cell_type": "code",
   "execution_count": null,
   "metadata": {
    "collapsed": true
   },
   "outputs": [],
   "source": [
    "nums = [num for num in range(1, 20001) if num % 3 == 0 and num % 5 != 0]\n",
    "print (nums[:10]) # 请加注释\n",
    "print (nums[-5:]) # 请加注释\n",
    "print (nums[::2]) # 请加注释\n",
    "print (sorted(nums, reverse = True)) # 请加注释"
   ]
  },
  {
   "cell_type": "markdown",
   "metadata": {
    "collapsed": true
   },
   "source": [
    "### -19.定义一个函数，完成一个小任务：对于给定的银行定期利率(输入)，计算多少年后可以连本带息翻番。\n",
    "\n",
    "代码如下："
   ]
  },
  {
   "cell_type": "code",
   "execution_count": null,
   "metadata": {
    "collapsed": true
   },
   "outputs": [],
   "source": [
    "def helper(rates):\n",
    "    n = 1\n",
    "    while True:\n",
    "        if (1 + rates) ** n >= 2:\n",
    "            break\n",
    "        n += 1\n",
    "    print (n, \"years\")\n",
    "\n",
    "helper(0.26)"
   ]
  },
  {
   "cell_type": "markdown",
   "metadata": {
    "collapsed": true
   },
   "source": [
    "### - 20.九九乘法表\n",
    "\n",
    "代码如下："
   ]
  },
  {
   "cell_type": "code",
   "execution_count": null,
   "metadata": {
    "collapsed": true
   },
   "outputs": [],
   "source": [
    "# 九九乘法表\n",
    "for i in range(1, 10):\n",
    "        for j in range(1, i+1):\n",
    "            print('{}x{}={}\\t'.format(i, j, i*j), end='')\n",
    "        print()"
   ]
  },
  {
   "cell_type": "markdown",
   "metadata": {},
   "source": [
    "----------\n",
    "\n",
    "## 更多福利\n",
    "\n",
    "微信扫描下面二维码，加404妹纸，可以获取更多福利哦！\n",
    " ![](http://osloyi5le.bkt.clouddn.com/%E7%BD%91%E6%98%93%E4%B8%AA%E4%BA%BA%E4%BA%8C%E7%BB%B4%E7%A0%81.jpg)"
   ]
  }
 ],
 "metadata": {
  "kernelspec": {
   "display_name": "Python 3",
   "language": "python",
   "name": "python3"
  },
  "language_info": {
   "codemirror_mode": {
    "name": "ipython",
    "version": 3
   },
   "file_extension": ".py",
   "mimetype": "text/x-python",
   "name": "python",
   "nbconvert_exporter": "python",
   "pygments_lexer": "ipython3",
   "version": "3.5.2"
  }
 },
 "nbformat": 4,
 "nbformat_minor": 2
}
